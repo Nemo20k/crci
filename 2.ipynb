{
 "cells": [
  {
   "cell_type": "markdown",
   "metadata": {},
   "source": [
    "# Chapter 2 - Linked Lists"
   ]
  },
  {
   "cell_type": "code",
   "execution_count": 2,
   "metadata": {},
   "outputs": [],
   "source": [
    "# Implementation of one-directional Linked list and its basic methods\n",
    "\n",
    "class Node:\n",
    "    def __init__(self, data=None, next=None):\n",
    "        self.data = data\n",
    "        self.next = next\n",
    "    \n",
    "    def __str__(self):\n",
    "        return f'data: {self.data}, next data: {self.next.data if self.next else None}'\n",
    "    \n",
    "    def __repr__(self) -> str:\n",
    "        return str(self)\n",
    "\n",
    "def append_to_tail(new_node: Node, linked_list: Node | None):\n",
    "    if not linked_list:\n",
    "        return new_node\n",
    "    curr_node = linked_list\n",
    "    while curr_node.next:\n",
    "        curr_node = curr_node.next\n",
    "    curr_node.next = new_node\n",
    "    return linked_list\n",
    "\n",
    "def remove_child(node: Node):\n",
    "    child = node.next\n",
    "    node.next = child.next\n",
    "\n",
    "def append_child(node: Node, new_child):\n",
    "    new_child.next = node.next\n",
    "    node.next = new_child\n",
    "\n",
    "def find_node_with_data(linked_list: Node, data) -> Node:\n",
    "    curr = linked_list\n",
    "    while curr:\n",
    "        if curr.data == data:\n",
    "            return curr\n",
    "        else:\n",
    "            curr = curr.next\n",
    "\n",
    "def add_node_as_root(linked_list: Node, node: Node) -> Node:\n",
    "    node.next = linked_list\n",
    "    return node\n",
    "\n",
    "def print_list(root: Node):\n",
    "    curr_node = root\n",
    "    while curr_node:\n",
    "        print(curr_node.data, end=' -> ' if curr_node.next else '\\n')\n",
    "        curr_node = curr_node.next"
   ]
  },
  {
   "attachments": {},
   "cell_type": "markdown",
   "metadata": {},
   "source": [
    "#### 2.1 Remove Dups\n",
    "    Write code to remove duplicates from an unsorted linked list.\n",
    "    FOLLOW UP\n",
    "    How would you solve this problem if a temporary buffer is not allowed?\n",
    "\n",
    "#### Solution\n",
    "    The problem is finding the duplications. the most naive approach is to iterate through the list for each node, which is O(N^2). but we can use hash-map and store the values on the run, where checking if already encountered takes O(1)."
   ]
  },
  {
   "cell_type": "code",
   "execution_count": 3,
   "metadata": {},
   "outputs": [
    {
     "name": "stdout",
     "output_type": "stream",
     "text": [
      "1 -> 2 -> 1 -> 3 -> 2\n",
      "removing dups..\n",
      "1 -> 2 -> 3\n"
     ]
    }
   ],
   "source": [
    "#### 2.1 Solution\n",
    "def remove_dups(linked_list: Node):\n",
    "    seen_values = set([linked_list.data])\n",
    "    curr_node = linked_list\n",
    "    while (child := curr_node.next):\n",
    "        #print(child.data)\n",
    "        if child.data in seen_values:\n",
    "            remove_child(curr_node)\n",
    "        else:\n",
    "            seen_values.add(child.data)\n",
    "            curr_node = child\n",
    "\n",
    "root = Node(1, Node(2, Node( 1, Node(3, Node(2, None)))))\n",
    "print_list(root)\n",
    "print('removing dups..')\n",
    "remove_dups(root)\n",
    "print_list(root)\n"
   ]
  },
  {
   "attachments": {},
   "cell_type": "markdown",
   "metadata": {},
   "source": [
    "#### 2.2 Return Kth to Last\n",
    "    Implement an algorithm to find the kth to last element of a singly linked list.\n",
    "\n",
    "#### Solution\n",
    "    first, we must find the last element with N steps. we can keep track of the number of nodes we iterated (find n), and the kth node to last element is the (n-k)th node from the root. overall, O(N)"
   ]
  },
  {
   "cell_type": "code",
   "execution_count": 4,
   "metadata": {},
   "outputs": [],
   "source": [
    "def return_kth(linked_list: Node, k: int) -> Node:\n",
    "    curr = linked_list\n",
    "    for i in range(k):\n",
    "        curr = curr.next\n",
    "        if not curr:\n",
    "            raise Exception(f'linked list is only {i} long, which is less then {k}')\n",
    "    return curr\n",
    "\n",
    "def return_kth_to_last(linked_list: Node, k) -> Node:\n",
    "    curr = linked_list\n",
    "    n = 0\n",
    "    while curr:\n",
    "        curr = curr.next\n",
    "        n += 1\n",
    "    return (return_kth(n-k))\n"
   ]
  },
  {
   "attachments": {},
   "cell_type": "markdown",
   "metadata": {},
   "source": [
    "#### 2.3 Delete Middle Node\n",
    "    Implement an algorithm to delete a node in the middle (i.e., any node but\n",
    "    the first and last node, not necessarily the exact middle) of a singly linked list, given only access to\n",
    "    that node.\n",
    "    EXAMPLE\n",
    "    lnput: the node c from the linked list a->b->c->d->e->f\n",
    "    Result: nothing is returned, but the new linked list looks like a->b->d->e->f\n",
    "\n",
    "#### Solution\n",
    "    in order to delete a node we must alter his parent, so we can search for it and then delete it in O(N)"
   ]
  },
  {
   "cell_type": "code",
   "execution_count": 5,
   "metadata": {},
   "outputs": [
    {
     "name": "stdout",
     "output_type": "stream",
     "text": [
      "a -> b -> c -> d -> e -> f\n",
      "removing c node\n",
      "a -> b -> d -> e -> f\n"
     ]
    }
   ],
   "source": [
    "# 2.3 Solution\n",
    "def find_node_parent(linked_list: Node, node: Node) -> Node:\n",
    "    curr = linked_list\n",
    "    while curr.next != node:\n",
    "        curr = curr.next\n",
    "        if not curr:\n",
    "            print('failed to find the node in the linked list')\n",
    "    return curr\n",
    "\n",
    "def delete_middle_node(linked_list: Node, node: Node):\n",
    "    parent = find_node_parent(linked_list, node)\n",
    "    remove_child(parent)\n",
    "\n",
    "root = Node('a', Node('b', Node('c', Node('d', Node('e', Node('f'))))))\n",
    "print_list(root)\n",
    "print('removing c node')\n",
    "c_node = find_node_with_data(root, 'c')\n",
    "delete_middle_node(root, c_node)\n",
    "print_list(root)\n"
   ]
  },
  {
   "attachments": {},
   "cell_type": "markdown",
   "metadata": {},
   "source": [
    "#### 2.4 Partition\n",
    "    Write code to partition a linked list around a value x, such that all nodes less than x come\n",
    "    before all nodes greater than or equal to x. If x is contained within the list, the values of x only need\n",
    "    to be after the elements less than x (see below). The partition element x can appear anywhere in the\n",
    "    \"right partition\"; it does not need to appear between the left and right partitions.\n",
    "    EXAMPLE\n",
    "    Input:\n",
    "    Output:\n",
    "    3 -> 5 -> 8 -> 5 -> 10 -> 2 -> 1 [partition= 5]\n",
    "    3 -> 1 -> 2 -> 10 -> 5 -> 5 -> 8 \n",
    "\n",
    "#### Solution\n",
    "    we can iterate the list and whenever encounter with node which value is lesser the x move it to the top of the list. the iteration is O(N), moving node is O(1)"
   ]
  },
  {
   "cell_type": "code",
   "execution_count": 6,
   "metadata": {},
   "outputs": [
    {
     "name": "stdout",
     "output_type": "stream",
     "text": [
      "1 -> 2 -> 1 -> 3 -> 2 -> 0 -> -1\n",
      "preforming partition..\n",
      "-1 -> 0 -> 1 -> 1 -> 2 -> 3 -> 2\n"
     ]
    }
   ],
   "source": [
    "# 2.4 Solution\n",
    "def partition(linked_list: Node, x) -> Node:\n",
    "    curr = linked_list\n",
    "    while (child := curr.next):\n",
    "        if child.data < x:\n",
    "            remove_child(curr)\n",
    "            linked_list = add_node_as_root(linked_list, child)\n",
    "        else:\n",
    "            curr = curr.next\n",
    "    return linked_list\n",
    "\n",
    "root = Node(1, Node(2, Node( 1, Node(3, Node(2, Node(0, Node(-1)))))))\n",
    "print_list(root)\n",
    "print('preforming partition..')\n",
    "new_root = partition(root, 2)\n",
    "print_list(new_root)\n"
   ]
  },
  {
   "attachments": {},
   "cell_type": "markdown",
   "metadata": {},
   "source": [
    "#### 2.5 Sum Lists\n",
    "    You have two numbers represented by a linked list, where each node contains a single\n",
    "    digit. The digits are stored in reverse order, such that the 1 's digit is at the head of the list. Write a function that adds the two numbers and returns the sum as a linked list.\n",
    "    EXAMPLE\n",
    "    Input: (7-> 1 -> 6) + (5 -> 9 -> 2).That is,617 + 295.\n",
    "    Output: 2 -> 1 -> 9. That is, 912.\n",
    "    FOLLOW UP\n",
    "    Suppose the digits are stored in forward order. Repeat the above problem.\n",
    "    EXAMPLE\n",
    "    lnput:(6 -> 1 -> 7) + (2 -> 9 -> 5).That is,617 + 295.\n",
    "    Output: 9 -> 1 -> 2. That is, 912. \n",
    "\n",
    "#### Solution\n",
    "    by iterating both lists and doing classic long summation we can solve in O(N)"
   ]
  },
  {
   "cell_type": "code",
   "execution_count": 7,
   "metadata": {},
   "outputs": [
    {
     "name": "stdout",
     "output_type": "stream",
     "text": [
      "7 -> 2 -> 1 -> 3 -> 2 -> 0\n",
      "plus itself =\n",
      "4 -> 5 -> 2 -> 6 -> 4 -> 0\n"
     ]
    }
   ],
   "source": [
    "# 2.5 Solution\n",
    "def sum_lists(list1: Node, list2: Node) -> Node:\n",
    "    remainder = 0\n",
    "    sum_list = None\n",
    "    nodes = [list1, list2]\n",
    "    vals = [0, 0]\n",
    "    while any(nodes):\n",
    "        for i in range(2):\n",
    "            if (node := nodes[i]):\n",
    "                vals[i] = node.data\n",
    "                nodes[i] = node.next               \n",
    "        val_sum =  sum([*vals, remainder])\n",
    "        remainder = val_sum // 10\n",
    "        new_node = Node(val_sum % 10)\n",
    "        sum_list = append_to_tail(new_node, sum_list)\n",
    "    return sum_list\n",
    "\n",
    "root = Node(7, Node(2, Node( 1, Node(3, Node(2, Node(0))))))\n",
    "print_list(root)\n",
    "print('plus itself =')\n",
    "print_list(sum_lists(root, root))\n"
   ]
  },
  {
   "attachments": {},
   "cell_type": "markdown",
   "metadata": {},
   "source": [
    "#### 2.6 Palindrome\n",
    "    Implement a function to check if a linked list is a palindrome. \n",
    "\n",
    "#### Solution\n",
    "    Since all the nodes must be checked, the complexity is at least O(N).\n",
    "    we can use another data structure, like simple array, to store the data and the check with simplicity"
   ]
  },
  {
   "cell_type": "code",
   "execution_count": 8,
   "metadata": {},
   "outputs": [
    {
     "name": "stdout",
     "output_type": "stream",
     "text": [
      "7 -> 2 -> 1 -> 2 -> 7\n",
      "True\n",
      "2 -> 2 -> 1 -> 2 -> 7\n",
      "False\n"
     ]
    }
   ],
   "source": [
    "# 2.6 Solution\n",
    "def is_array_palindrome(array: list) -> bool:\n",
    "    n = len(array)\n",
    "    for i in range(n//2):\n",
    "        if array[i] != array[n-i-1]:\n",
    "            return False\n",
    "    return True\n",
    "\n",
    "def is_palindrome(head: Node) -> bool:\n",
    "    curr = head\n",
    "    array = []\n",
    "    while curr:\n",
    "       array.append(curr.data)\n",
    "       curr = curr.next\n",
    "    return is_array_palindrome(array) \n",
    "    \n",
    "pal = Node(7, Node(2, Node( 1, Node(2, Node(7)))))\n",
    "print_list(pal)\n",
    "print(is_palindrome(pal))\n",
    "not_pal = Node(2, Node(2, Node( 1, Node(2, Node(7)))))\n",
    "print_list(not_pal)\n",
    "print(is_palindrome(not_pal))\n"
   ]
  },
  {
   "attachments": {},
   "cell_type": "markdown",
   "metadata": {},
   "source": [
    "#### 2.7 Intersection\n",
    "    Given two (singly) linked lists, determine if the two lists intersect. Return the intersecting node. Note that the intersection is defined based on reference, not value. That is, if the kth\n",
    "    node of the first linked list is the exact same node (by reference) as the jth node of the second\n",
    "    linked list, then they are intersecting\n",
    "\n",
    "#### Solution\n",
    "\n",
    "first we must notice the if 1 node is intersecting, all those who follow are intersecting as well. \n",
    "we can create cloned revert lists with each node object id as data, and return the last element to intersect."
   ]
  },
  {
   "cell_type": "code",
   "execution_count": 15,
   "metadata": {},
   "outputs": [
    {
     "name": "stdout",
     "output_type": "stream",
     "text": [
      "data: 2, next data: 3\n"
     ]
    }
   ],
   "source": [
    "# 2.7 Solution\n",
    "def revert_ids_linked_list(root: Node) -> Node:\n",
    "    curr = root\n",
    "    reversed = None\n",
    "    while curr:\n",
    "        curr_clone = Node(curr, curr.next) # we save the original node as data\n",
    "        child = curr.next\n",
    "        reversed = add_node_as_root(reversed, curr_clone)\n",
    "        curr = child\n",
    "    return reversed\n",
    "        \n",
    "def intersection(list1: Node, list2: Node) -> (Node | None):\n",
    "    tisl1, tisl2 = (revert_ids_linked_list(l) for l in (list1, list2))\n",
    "    last_same_node = None\n",
    "    while tisl1 and tisl2:\n",
    "        if tisl1.data == tisl2.data:\n",
    "            last_same_node = tisl1.data\n",
    "        tisl1 = tisl1.next\n",
    "        tisl2 = tisl2.next\n",
    "    return last_same_node\n",
    "\n",
    "\n",
    "\n",
    "l1 = Node(1, Node(2, Node( 3, Node(5, Node(7)))))\n",
    "l2 = Node(8, l1)\n",
    "l3 = Node(5, l1.next)\n",
    "\n",
    "print(intersection(l3, l2))"
   ]
  },
  {
   "attachments": {},
   "cell_type": "markdown",
   "metadata": {},
   "source": [
    "#### 2.8 Loop Detection\n",
    "    Given a circular linked list, implement an algorithm that returns the node at the\n",
    "    beginning of the loop.\n",
    "    DEFINITION\n",
    "    Circular linked list: A (corrupt) linked list in which a node's next pointer points to an earlier node, so\n",
    "    as to make a loop in the linked list.\n",
    "    EXAMPLE\n",
    "    Input: A -> B -> C -> D -> E -> C [the same C as earlier]\n",
    "    Output: C \n",
    "\n",
    "#### Solution\n",
    "    Using hash map that contain the nodes we encounter - we can search for the next node in O(1) and return it if it is there"
   ]
  },
  {
   "cell_type": "code",
   "execution_count": 20,
   "metadata": {},
   "outputs": [
    {
     "data": {
      "text/plain": [
       "data: 2, next data: 3"
      ]
     },
     "execution_count": 20,
     "metadata": {},
     "output_type": "execute_result"
    }
   ],
   "source": [
    "# 2.8 Solution\n",
    "\n",
    "def loop_detection(root: Node) -> Node | None:\n",
    "    visited_nodes = set()\n",
    "    curr = root\n",
    "    while curr.next:\n",
    "        if curr.next in visited_nodes:\n",
    "            return curr.next\n",
    "        visited_nodes.add(curr.next)\n",
    "        curr = curr.next\n",
    "\n",
    "circ_node = Node(7)\n",
    "l1 = Node(1, Node(2, Node( 3, Node(5, circ_node))))\n",
    "circ_node.next = l1\n",
    "loop_detection(l1)\n"
   ]
  },
  {
   "cell_type": "code",
   "execution_count": null,
   "metadata": {},
   "outputs": [],
   "source": []
  }
 ],
 "metadata": {
  "kernelspec": {
   "display_name": "Python 3",
   "language": "python",
   "name": "python3"
  },
  "language_info": {
   "codemirror_mode": {
    "name": "ipython",
    "version": 3
   },
   "file_extension": ".py",
   "mimetype": "text/x-python",
   "name": "python",
   "nbconvert_exporter": "python",
   "pygments_lexer": "ipython3",
   "version": "3.11.0"
  },
  "orig_nbformat": 4,
  "vscode": {
   "interpreter": {
    "hash": "5238573367df39f7286bb46f9ff5f08f63a01a80960060ce41e3c79b190280fa"
   }
  }
 },
 "nbformat": 4,
 "nbformat_minor": 2
}
