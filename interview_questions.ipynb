{
 "cells": [
  {
   "attachments": {},
   "cell_type": "markdown",
   "metadata": {},
   "source": [
    "write a unique regex matcher.\n",
    "\n",
    "syntax:\n",
    "\n",
    "1. [A-Z] - match itself ('ABA' pattern will match only 'ABA' strings)\n",
    "2. ? - match any character ('A?A') will match 'AAA', 'ABA', 'ACA' etc)\n",
    "3. \\* will match any series of characters which at least 1 length \n",
    "    ('*' will match any string. 'A*' will match any string start with A)"
   ]
  },
  {
   "cell_type": "code",
   "execution_count": 2,
   "metadata": {},
   "outputs": [],
   "source": [
    "\n",
    "def is_match(pattern: str, string: str) -> bool:\n",
    "    print(pattern, string)\n",
    "    if len(string) < len(pattern):\n",
    "        return False\n",
    "    if len(string) == len(pattern):\n",
    "        for s, p in zip(string, pattern):\n",
    "            if s != p and p not in ('*', '?'):\n",
    "                return False\n",
    "        return True\n",
    "    # string > pattern\n",
    "    for i in range(len(string)):\n",
    "        j = 0\n",
    "        if string[i] == pattern[j] or pattern[j] == '?':\n",
    "            j += 1\n",
    "            continue\n",
    "        elif pattern[j] == '*':\n",
    "            if len(pattern) == j:\n",
    "                return True \n",
    "            for k in range(i+1, len(str)):\n",
    "                if is_match(pattern[j+1:], string[k:]):\n",
    "                    return True\n",
    "            return False\n",
    "    return True\n",
    "    "
   ]
  }
 ],
 "metadata": {
  "kernelspec": {
   "display_name": "Python 3",
   "language": "python",
   "name": "python3"
  },
  "language_info": {
   "codemirror_mode": {
    "name": "ipython",
    "version": 3
   },
   "file_extension": ".py",
   "mimetype": "text/x-python",
   "name": "python",
   "nbconvert_exporter": "python",
   "pygments_lexer": "ipython3",
   "version": "3.11.0 (main, Oct 24 2022, 18:26:48) [MSC v.1933 64 bit (AMD64)]"
  },
  "orig_nbformat": 4,
  "vscode": {
   "interpreter": {
    "hash": "5238573367df39f7286bb46f9ff5f08f63a01a80960060ce41e3c79b190280fa"
   }
  }
 },
 "nbformat": 4,
 "nbformat_minor": 2
}
