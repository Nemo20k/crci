{
 "cells": [
  {
   "cell_type": "code",
   "execution_count": null,
   "metadata": {},
   "outputs": [],
   "source": [
    "# Chapter 1 - Array and Strings"
   ]
  },
  {
   "cell_type": "markdown",
   "metadata": {},
   "source": [
    "#### 1.1 Is Unique\n",
    "Implement an algorithm to determine if a string has all unique characters. What if you\n",
    "cannot use additional data structures? \n",
    "\n",
    "#### Solution\n",
    "\n",
    "1. Naive approach: we can iterate on the string, for each character we search in the string -> $O(N^{2})$ (or $O(N\\log(N))$ with sorting)\n",
    "2. Using Data stracture: iterating on the characters and pushing to HashMap with checking if already exists - $O(N)$\n",
    "\n",
    "*What if you\n",
    "cannot use additional data structures?*\n",
    "3. better the naive: sort, the iterate and check if string[i] == string[i+1]\n"
   ]
  },
  {
   "cell_type": "code",
   "execution_count": 1,
   "metadata": {},
   "outputs": [
    {
     "name": "stdout",
     "output_type": "stream",
     "text": [
      "False\n",
      "True\n"
     ]
    }
   ],
   "source": [
    "# 1.1 Solution\n",
    "def is_unique(string: str) -> bool:\n",
    "    existing_characters = set()\n",
    "    for char in string:\n",
    "        if char in existing_characters:\n",
    "            return False\n",
    "        else:\n",
    "            existing_characters.add(char)\n",
    "    return True\n",
    "\n",
    "print(is_unique('abcda'))  # False\n",
    "print(is_unique('efghijklmnop'))  # True\n"
   ]
  },
  {
   "cell_type": "markdown",
   "metadata": {},
   "source": [
    "#### 1.2 Check Permutation\n",
    "Given two strings, write a method to decide if one is a permutation of the\n",
    "other.\n",
    "\n",
    "#### Solution\n",
    "1. The naive approach is to find all the premutation and compare, which is $O(N!)$ - way too much\n",
    "2. we can use hash maps to build histograms and compare them with $O(N)$"
   ]
  },
  {
   "cell_type": "code",
   "execution_count": 9,
   "metadata": {},
   "outputs": [
    {
     "data": {
      "text/plain": [
       "False"
      ]
     },
     "execution_count": 9,
     "metadata": {},
     "output_type": "execute_result"
    }
   ],
   "source": [
    "# 1.2 Solution\n",
    "def build_histogram(iterable):\n",
    "    histogram = {}\n",
    "    for i in iterable:\n",
    "        if i in histogram:\n",
    "            histogram[i] += 1\n",
    "        else:\n",
    "            histogram[i] = 1\n",
    "    return histogram\n",
    "\n",
    "def check_premutation(a: str, b: str) -> bool:\n",
    "    if len(a) != len(b):\n",
    "        return False\n",
    "    histogram_a = build_histogram(a)\n",
    "    histogram_b = build_histogram(b)\n",
    "    for key in histogram_a:\n",
    "        if histogram_a[key] != histogram_b[key]:\n",
    "            return False\n",
    "    return True\n",
    "\n",
    "check_premutation('abbccc', 'ccabcb') # True\n",
    "check_premutation('abbccc', 'ccabcf') # False"
   ]
  },
  {
   "attachments": {},
   "cell_type": "markdown",
   "metadata": {},
   "source": [
    "#### 1.3 URLify\n",
    "    Write a method to replace all spaces in a string with '%20'. You may assume that the string\n",
    "    has sufficient space at the end to hold the additional characters, and that you are given the \"true\"\n",
    "    length of the string. (Note: If implementing in Java, please use a character array so that you can\n",
    "    perform this operation in place.)\n",
    "    EXAMPLE\n",
    "    Input: \"Mr John Smith \", 13\n",
    "    Output: \"Mr%20John%20Smith\" \n",
    "\n",
    "\n",
    "#### Solution\n",
    "    1. we use array in fixed size. in order to avoid the pushing forward of the rest of the cells we can go backward from the end with $O(N)$"
   ]
  },
  {
   "cell_type": "code",
   "execution_count": 6,
   "metadata": {},
   "outputs": [],
   "source": [
    "# 1.3 Solution\n",
    "def urlify(char_array: list, real_length: int):\n",
    "    urlified = [''] * real_length\n",
    "    backward_index = real_length-1\n",
    "    for char in char_array[::-1]:\n",
    "        if char == \" \":\n",
    "            urlified[backward_index] = '0'\n",
    "            urlified[backward_index-1] = '2'\n",
    "            urlified[backward_index-2] = '%'\n",
    "            backward_index -= 3\n",
    "        else:\n",
    "            urlified[backward_index] = char\n",
    "            backward_index -= 1\n",
    "    return urlified\n",
    "\n",
    "urlify(list('1 11 1'), 10) # -> ['1', '%', '2', '0', '1', '1', '%', '2', '0', '1']"
   ]
  },
  {
   "attachments": {},
   "cell_type": "markdown",
   "metadata": {},
   "source": [
    "#### 1.4 Palindrome Permutation\n",
    "    Given a string, write a function to check if it is a permutation of a palindrome. A palindrome is a word or phrase that is the same forwards and backwards. A permutation\n",
    "    is a rearrangement of letters. The palindrome does not need to be limited to just dictionary words.\n",
    "    1.5\n",
    "    1.6\n",
    "    EXAMPLE\n",
    "    Input: Tact Coa\n",
    "    Output: True (permutations: \"taco cat\", \"atco eta\", etc.) \n",
    "\n",
    "#### Solution\n",
    "1. very naive approach would be to go over all permutation with $O(N!)$ and search for palindromes.\n",
    "2. we can think of the symmetry at definition of palindrom, and get to a conclusion that:\n",
    "    a. if the length of the string is **even**:\n",
    "        all characters must appear even number\n",
    "    b. if the length of the string is **odd**:\n",
    "        1 character must appear odd number of times (the one in the middle)\n",
    "        all the other must appear even number of times.\n",
    "        therefore, a histogram shuold do the trick, and it will take an O(N) overall.\n",
    "3. in a simpler terms - the number of characters with odd count can be 0 or 1.\n"
   ]
  },
  {
   "cell_type": "code",
   "execution_count": 20,
   "metadata": {},
   "outputs": [
    {
     "data": {
      "text/plain": [
       "True"
      ]
     },
     "execution_count": 20,
     "metadata": {},
     "output_type": "execute_result"
    }
   ],
   "source": [
    "# 1.4 Solution\n",
    "def palindrum_permutation(string: str) -> bool:\n",
    "    histogram = build_histogram(string)\n",
    "    histogram.pop(' ', None) # we ignore spaces\n",
    "    odd_count = 0\n",
    "\n",
    "    # iterating over the histogram key (the chars), with O(n)\n",
    "    for num in histogram.values():\n",
    "        if (num % 2 == 1): # odd count\n",
    "            odd_count += 1\n",
    "    \n",
    "    return odd_count <= 1\n",
    "        \n",
    "    \n",
    "palindrum_permutation('abba') # -> True\n",
    "palindrum_permutation('baba') # -> True\n",
    "palindrum_permutation('baaba') # -> True\n",
    "palindrum_permutation('bbbaaa') # -> False"
   ]
  },
  {
   "cell_type": "code",
   "execution_count": null,
   "metadata": {},
   "outputs": [],
   "source": []
  }
 ],
 "metadata": {
  "kernelspec": {
   "display_name": "Python 3.11.0 64-bit",
   "language": "python",
   "name": "python3"
  },
  "language_info": {
   "codemirror_mode": {
    "name": "ipython",
    "version": 3
   },
   "file_extension": ".py",
   "mimetype": "text/x-python",
   "name": "python",
   "nbconvert_exporter": "python",
   "pygments_lexer": "ipython3",
   "version": "3.11.0"
  },
  "orig_nbformat": 4,
  "vscode": {
   "interpreter": {
    "hash": "5238573367df39f7286bb46f9ff5f08f63a01a80960060ce41e3c79b190280fa"
   }
  }
 },
 "nbformat": 4,
 "nbformat_minor": 2
}
