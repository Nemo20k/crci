{
 "cells": [
  {
   "cell_type": "code",
   "execution_count": null,
   "metadata": {},
   "outputs": [],
   "source": [
    "# Chapter 1 - Array and Strings"
   ]
  },
  {
   "cell_type": "markdown",
   "metadata": {},
   "source": [
    "#### 1.1 Is Unique\n",
    "Implement an algorithm to determine if a string has all unique characters. What if you\n",
    "cannot use additional data structures? \n",
    "\n",
    "#### Solution\n",
    "\n",
    "1. Naive approach: we can iterate on the string, for each character we search in the string -> $O(N^{2})$ (or $O(N\\log(N))$ with sorting)\n",
    "2. Using Data stracture: iterating on the characters and pushing to HashMap with checking if already exists - $O(N)$\n",
    "\n",
    "*What if you\n",
    "cannot use additional data structures?*\n",
    "3. better the naive: sort, the iterate and check if string[i] == string[i+1]\n"
   ]
  },
  {
   "cell_type": "code",
   "execution_count": 1,
   "metadata": {},
   "outputs": [
    {
     "name": "stdout",
     "output_type": "stream",
     "text": [
      "False\n",
      "True\n"
     ]
    }
   ],
   "source": [
    "# 1.1 Solution\n",
    "def is_unique(string: str) -> bool:\n",
    "    existing_characters = set()\n",
    "    for char in string:\n",
    "        if char in existing_characters:\n",
    "            return False\n",
    "        else:\n",
    "            existing_characters.add(char)\n",
    "    return True\n",
    "\n",
    "print(is_unique('abcda'))  # False\n",
    "print(is_unique('efghijklmnop'))  # True\n"
   ]
  },
  {
   "cell_type": "markdown",
   "metadata": {},
   "source": [
    "#### 1.2 Check Permutation\n",
    "Given two strings, write a method to decide if one is a permutation of the\n",
    "other.\n",
    "\n",
    "#### Solution\n",
    "1. The naive approach is to find all the premutation and compare, which is $O(N!)$ - way too much\n",
    "2. we can use hash maps to build histograms and compare them with $O(N)$"
   ]
  },
  {
   "cell_type": "code",
   "execution_count": 3,
   "metadata": {},
   "outputs": [
    {
     "data": {
      "text/plain": [
       "False"
      ]
     },
     "execution_count": 3,
     "metadata": {},
     "output_type": "execute_result"
    }
   ],
   "source": [
    "# 1.2 Solution\n",
    "def build_histogram(iterable):\n",
    "    histogram = {}\n",
    "    for i in iterable:\n",
    "        if i in histogram:\n",
    "            histogram[i] += 1\n",
    "        else:\n",
    "            histogram[i] = 1\n",
    "    return histogram\n",
    "\n",
    "def check_premutation(a: str, b: str) -> bool:\n",
    "    if len(a) != len(b):\n",
    "        return False\n",
    "    histogram_a = build_histogram(a)\n",
    "    histogram_b = build_histogram(b)\n",
    "    for key in histogram_a:\n",
    "        if histogram_a[key] != histogram_b[key]:\n",
    "            return False\n",
    "    return True\n",
    "\n",
    "check_premutation('abbccc', 'ccabcb') # True\n",
    "check_premutation('abbccc', 'ccabcf') # False"
   ]
  },
  {
   "cell_type": "code",
   "execution_count": null,
   "metadata": {},
   "outputs": [],
   "source": []
  }
 ],
 "metadata": {
  "kernelspec": {
   "display_name": "Python 3.11.0 64-bit",
   "language": "python",
   "name": "python3"
  },
  "language_info": {
   "codemirror_mode": {
    "name": "ipython",
    "version": 3
   },
   "file_extension": ".py",
   "mimetype": "text/x-python",
   "name": "python",
   "nbconvert_exporter": "python",
   "pygments_lexer": "ipython3",
   "version": "3.11.0"
  },
  "orig_nbformat": 4,
  "vscode": {
   "interpreter": {
    "hash": "5238573367df39f7286bb46f9ff5f08f63a01a80960060ce41e3c79b190280fa"
   }
  }
 },
 "nbformat": 4,
 "nbformat_minor": 2
}
