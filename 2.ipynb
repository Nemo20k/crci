{
 "cells": [
  {
   "cell_type": "markdown",
   "metadata": {},
   "source": [
    "# Chapter 2 - Linked Lists"
   ]
  },
  {
   "cell_type": "code",
   "execution_count": null,
   "metadata": {},
   "outputs": [],
   "source": []
  },
  {
   "cell_type": "code",
   "execution_count": 10,
   "metadata": {},
   "outputs": [],
   "source": [
    "# Implementation of one-directional Linked list and its basic methods\n",
    "\n",
    "class Node:\n",
    "    def __init__(self, data=None, next=None):\n",
    "        self.data = data\n",
    "        self.next = next\n",
    "\n",
    "def append_to_tail(linked_list: Node, new_node: Node):\n",
    "    curr_node = linked_list\n",
    "    while curr_node.next:\n",
    "        curr_node = curr_node.next\n",
    "    curr_node.next = new_node\n",
    "\n",
    "def remove_child(node: Node):\n",
    "    child = node.next\n",
    "    node.next = child.next\n",
    "\n",
    "def append_child(node: Node, new_child):\n",
    "    new_child.next = node.next\n",
    "    node.next = new_child\n",
    "\n",
    "def print_list(root: Node):\n",
    "    curr_node = root\n",
    "    while curr_node:\n",
    "        print(curr_node.data)\n",
    "        if curr_node.next:\n",
    "            print('|')\n",
    "        curr_node = curr_node.next"
   ]
  },
  {
   "attachments": {},
   "cell_type": "markdown",
   "metadata": {},
   "source": [
    "#### 2.1 Remove Dups\n",
    "    Write code to remove duplicates from an unsorted linked list.\n",
    "    FOLLOW UP\n",
    "    How would you solve this problem if a temporary buffer is not allowed?\n",
    "\n",
    "#### Solution\n",
    "    The problem is finding the duplications. the most naive approach is to iterate through the list for each node, which is O(N^2). but we can use hash-map and store the values on the run, where checking if already encountered takes O(1)."
   ]
  },
  {
   "cell_type": "code",
   "execution_count": 19,
   "metadata": {},
   "outputs": [
    {
     "name": "stdout",
     "output_type": "stream",
     "text": [
      "1\n",
      "|\n",
      "2\n",
      "|\n",
      "1\n",
      "|\n",
      "3\n",
      "|\n",
      "2\n",
      "removing dups..\n",
      "1\n",
      "|\n",
      "2\n",
      "|\n",
      "3\n"
     ]
    }
   ],
   "source": [
    "#### 2.1 Solution\n",
    "def remove_dups(linked_list: Node):\n",
    "    seen_values = set([linked_list.data])\n",
    "    curr_node = linked_list\n",
    "    while (child := curr_node.next):\n",
    "        #print(child.data)\n",
    "        if child.data in seen_values:\n",
    "            remove_child(curr_node)\n",
    "        else:\n",
    "            seen_values.add(child.data)\n",
    "            curr_node = child\n",
    "\n",
    "root = Node(1, Node(2, Node( 1, Node(3, Node(2, None)))))\n",
    "print_list(root)\n",
    "print('removing dups..')\n",
    "remove_dups(root)\n",
    "print_list(root)\n"
   ]
  },
  {
   "cell_type": "markdown",
   "metadata": {},
   "source": []
  }
 ],
 "metadata": {
  "kernelspec": {
   "display_name": "Python 3",
   "language": "python",
   "name": "python3"
  },
  "language_info": {
   "codemirror_mode": {
    "name": "ipython",
    "version": 3
   },
   "file_extension": ".py",
   "mimetype": "text/x-python",
   "name": "python",
   "nbconvert_exporter": "python",
   "pygments_lexer": "ipython3",
   "version": "3.11.0"
  },
  "orig_nbformat": 4,
  "vscode": {
   "interpreter": {
    "hash": "5238573367df39f7286bb46f9ff5f08f63a01a80960060ce41e3c79b190280fa"
   }
  }
 },
 "nbformat": 4,
 "nbformat_minor": 2
}
