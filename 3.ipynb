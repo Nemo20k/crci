{
 "cells": [
  {
   "cell_type": "markdown",
   "metadata": {},
   "source": [
    "# Chapter 3 - Stacks & Queues"
   ]
  },
  {
   "cell_type": "code",
   "execution_count": 45,
   "metadata": {},
   "outputs": [],
   "source": [
    "# Simple Stack & Queue implementation\n",
    "\n",
    "class Node:\n",
    "    def __init__(self, data=None, next=None):\n",
    "        self.data = data\n",
    "        self.next = next\n",
    "    \n",
    "    def __str__(self):\n",
    "        return f'data: {self.data}, next data: {self.next.data if self.next else None}'\n",
    "    \n",
    "    def __repr__(self) -> str:\n",
    "        return str(self)\n",
    "\n",
    "\n",
    "class Stack:\n",
    "    def __init__(self):\n",
    "        self.top = None\n",
    "    \n",
    "    def pop(self) -> Node:\n",
    "        curr_top = self.top\n",
    "        self.top = self.top.next\n",
    "        return curr_top.data\n",
    "    \n",
    "    def push(self, data):\n",
    "        self.top = Node(data, self.top)\n",
    "    \n",
    "    def peek(self):\n",
    "        return self.top.data\n",
    "    \n",
    "    def is_empty(self):\n",
    "        return self.top == None\n",
    "\n",
    "    def __str__(self):\n",
    "        string = ''\n",
    "        curr = self.top\n",
    "        while curr:\n",
    "            string += f'{curr.data}'\n",
    "            if curr.next:\n",
    "                string += '->'\n",
    "            curr = curr.next\n",
    "        return string\n",
    "\n",
    "\n",
    "class Queue:\n",
    "    def __init__(self) -> None:\n",
    "        self.first: Node | None = None\n",
    "        self.last: Node | None = None\n",
    "\n",
    "    def add(self, data):\n",
    "        node = Node(data)\n",
    "        if not self.last:\n",
    "            self.last = self.first = node\n",
    "        else:\n",
    "            self.last.next = node\n",
    "            self.last = node\n",
    "    \n",
    "    def remove(self):\n",
    "        self.first = self.first.next\n",
    "    \n",
    "    def peek(self):\n",
    "        return self.first.data\n",
    "\n",
    "    def is_empty(self):\n",
    "        return self.first == None\n",
    "\n",
    "    def __str__(self):\n",
    "        string = ''\n",
    "        curr = self.first\n",
    "        while curr:\n",
    "            string += f'{curr.data}'\n",
    "            if curr.next:\n",
    "                string += '->'\n",
    "            curr = curr.next\n",
    "        return string"
   ]
  }
 ],
 "metadata": {
  "kernelspec": {
   "display_name": "Python 3",
   "language": "python",
   "name": "python3"
  },
  "language_info": {
   "codemirror_mode": {
    "name": "ipython",
    "version": 3
   },
   "file_extension": ".py",
   "mimetype": "text/x-python",
   "name": "python",
   "nbconvert_exporter": "python",
   "pygments_lexer": "ipython3",
   "version": "3.11.0 (main, Oct 24 2022, 18:26:48) [MSC v.1933 64 bit (AMD64)]"
  },
  "orig_nbformat": 4,
  "vscode": {
   "interpreter": {
    "hash": "5238573367df39f7286bb46f9ff5f08f63a01a80960060ce41e3c79b190280fa"
   }
  }
 },
 "nbformat": 4,
 "nbformat_minor": 2
}
